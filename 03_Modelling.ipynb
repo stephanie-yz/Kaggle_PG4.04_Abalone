{
 "cells": [
  {
   "cell_type": "markdown",
   "metadata": {},
   "source": [
    "# Regression with an Abalone Dataset\n",
    "Run after following notebooks are run:\n",
    "1. **01_Data_Cleaning**\n",
    "2. **02_EDA**\n",
    "\n",
    "## Development Notes/Ideas\n",
    "- rf\n",
    "- xgb\n",
    "- knn\n",
    "- lasso\n",
    "- stack\n",
    "- convert Rings to ordinal categories - this way voting will choose majority vote rather than averaging\n",
    "\n",
    "\n",
    "## Libraries"
   ]
  },
  {
   "cell_type": "code",
   "execution_count": 1,
   "metadata": {},
   "outputs": [],
   "source": [
    "## set up libraries\n",
    "import pandas as pd\n",
    "import numpy as np\n",
    "import seaborn as sns\n",
    "import matplotlib.pyplot as plt\n",
    "from sklearn.preprocessing import LabelEncoder, OneHotEncoder\n",
    "from sklearn.metrics import make_scorer, mean_squared_log_error\n",
    "from sklearn.model_selection import KFold\n",
    "from sklearn.model_selection import GridSearchCV\n",
    "from sklearn.ensemble import RandomForestRegressor\n",
    "from sklearn.ensemble import RandomForestClassifier\n",
    "import xgboost as xgb"
   ]
  },
  {
   "cell_type": "markdown",
   "metadata": {},
   "source": [
    "## Load Data"
   ]
  },
  {
   "cell_type": "code",
   "execution_count": 2,
   "metadata": {},
   "outputs": [],
   "source": [
    "train = pd.read_pickle('train_clean.pkl')\n",
    "test = pd.read_pickle('test_clean.pkl')\n",
    "\n",
    "## separate in to features and response variable\n",
    "x_train = train.drop('Rings', axis=1)\n",
    "y_train = train['Rings']\n",
    "\n",
    "x_test = test"
   ]
  },
  {
   "cell_type": "markdown",
   "metadata": {},
   "source": [
    "## One Hot Encoding / Label Encoding"
   ]
  },
  {
   "cell_type": "code",
   "execution_count": 3,
   "metadata": {},
   "outputs": [
    {
     "name": "stdout",
     "output_type": "stream",
     "text": [
      "train dimensions:  (94792, 12) \n",
      " test dimensions:  (60411, 12)\n"
     ]
    },
    {
     "data": {
      "text/plain": [
       "['Length',\n",
       " 'Diameter',\n",
       " 'Height',\n",
       " 'Whole weight',\n",
       " 'Whole weight.1',\n",
       " 'Whole weight.2',\n",
       " 'Shell weight',\n",
       " 'Volume_cube',\n",
       " 'Density_meat',\n",
       " 'Sex_I',\n",
       " 'Sex_M',\n",
       " 'Source_syth']"
      ]
     },
     "execution_count": 3,
     "metadata": {},
     "output_type": "execute_result"
    }
   ],
   "source": [
    "x_train_onehot = pd.get_dummies(x_train, drop_first=True)\n",
    "x_test_onehot = pd.get_dummies(x_test, drop_first=True)\n",
    "\n",
    "## manually add Source_syth to test\n",
    "x_test_onehot['Source_syth'] = True\n",
    "\n",
    "print(\"train dimensions: \", x_train_onehot.shape, \"\\n\",\"test dimensions: \", x_test_onehot.shape)\n",
    "x_train_onehot.columns.to_list()"
   ]
  },
  {
   "cell_type": "code",
   "execution_count": 4,
   "metadata": {},
   "outputs": [
    {
     "data": {
      "text/plain": [
       "array([0.69314718, 1.09861229, 1.38629436, 1.60943791, 1.79175947,\n",
       "       1.94591015, 2.07944154, 2.19722458, 2.30258509, 2.39789527,\n",
       "       2.48490665, 2.56494936, 2.63905733, 2.7080502 , 2.77258872,\n",
       "       2.83321334, 2.89037176, 2.94443898, 2.99573227, 3.04452244,\n",
       "       3.09104245, 3.13549422, 3.17805383, 3.21887582, 3.25809654,\n",
       "       3.29583687, 3.33220451, 3.40119738])"
      ]
     },
     "execution_count": 4,
     "metadata": {},
     "output_type": "execute_result"
    }
   ],
   "source": [
    "## label encode response variable - used for voting algorithms\n",
    "le = LabelEncoder()\n",
    "y_train_le = le.fit_transform(y_train)\n",
    "le.classes_"
   ]
  },
  {
   "cell_type": "markdown",
   "metadata": {},
   "source": [
    "## Make custom scorer object"
   ]
  },
  {
   "cell_type": "code",
   "execution_count": 5,
   "metadata": {},
   "outputs": [],
   "source": [
    "## Root Mean Squared Logarithmic Error\n",
    "\n",
    "## Define function to inverse transform y for scorer calculations\n",
    "def custom_rmsle_scorer(y_true, y_pred):\n",
    "    # Apply inverse transformation to y\n",
    "    y_true = np.expm1(y_true)\n",
    "    y_pred = np.expm1(y_pred)\n",
    "    # Calculate RMSLE\n",
    "    rmsle = mean_squared_log_error(y_true, y_pred, squared=False)\n",
    "    return rmsle  \n",
    "\n",
    "## Define custom scorer\n",
    "rmsle = make_scorer(custom_rmsle_scorer, greater_is_better=False)"
   ]
  },
  {
   "cell_type": "markdown",
   "metadata": {},
   "source": [
    "## Modelling\n",
    "### Random Forest Averaging"
   ]
  },
  {
   "cell_type": "code",
   "execution_count": 6,
   "metadata": {},
   "outputs": [],
   "source": [
    "## hyperparameter tuning: n_estimators\n",
    "param_grid = {'n_estimators' : np.arange(350,450,50), 'n_jobs' : [-1]}\n",
    "kf = KFold(n_splits=5, shuffle=True, random_state=888)\n",
    "\n",
    "rf_tuning = GridSearchCV(RandomForestRegressor(random_state=888), param_grid, scoring=rmsle, cv=kf, n_jobs=-1)\n",
    "rf_tuning.fit(x_train_onehot.values, y_train)\n",
    "None"
   ]
  },
  {
   "cell_type": "code",
   "execution_count": 7,
   "metadata": {},
   "outputs": [
    {
     "name": "stdout",
     "output_type": "stream",
     "text": [
      "best_params = {'n_estimators': 400, 'n_jobs': -1}\n",
      "best_score = -0.15328800027107176\n",
      "all_scores = [-0.15333079 -0.153288  ]\n"
     ]
    }
   ],
   "source": [
    "## find best param with highest accuracy\n",
    "rf_tuning_accr = rf_tuning.cv_results_['mean_test_score']\n",
    "print('best_params =', rf_tuning.best_params_)\n",
    "print('best_score =', rf_tuning.best_score_)\n",
    "print('all_scores =', rf_tuning_accr)"
   ]
  },
  {
   "cell_type": "code",
   "execution_count": 8,
   "metadata": {},
   "outputs": [],
   "source": [
    "## instantiate rf algorithm, using best tuned param\n",
    "rf = RandomForestRegressor(n_estimators=400, random_state=888, n_jobs=-1)\n",
    "\n",
    "## fit model to training data\n",
    "rf.fit(x_train_onehot.values, y_train); None"
   ]
  },
  {
   "cell_type": "markdown",
   "metadata": {},
   "source": [
    "#### Feature importance"
   ]
  },
  {
   "cell_type": "code",
   "execution_count": 9,
   "metadata": {},
   "outputs": [
    {
     "data": {
      "text/html": [
       "<div>\n",
       "<style scoped>\n",
       "    .dataframe tbody tr th:only-of-type {\n",
       "        vertical-align: middle;\n",
       "    }\n",
       "\n",
       "    .dataframe tbody tr th {\n",
       "        vertical-align: top;\n",
       "    }\n",
       "\n",
       "    .dataframe thead th {\n",
       "        text-align: right;\n",
       "    }\n",
       "</style>\n",
       "<table border=\"1\" class=\"dataframe\">\n",
       "  <thead>\n",
       "    <tr style=\"text-align: right;\">\n",
       "      <th></th>\n",
       "      <th>Features</th>\n",
       "      <th>Gini Importance</th>\n",
       "    </tr>\n",
       "  </thead>\n",
       "  <tbody>\n",
       "    <tr>\n",
       "      <th>6</th>\n",
       "      <td>Shell weight</td>\n",
       "      <td>63.957507</td>\n",
       "    </tr>\n",
       "    <tr>\n",
       "      <th>8</th>\n",
       "      <td>Density_meat</td>\n",
       "      <td>9.020168</td>\n",
       "    </tr>\n",
       "    <tr>\n",
       "      <th>4</th>\n",
       "      <td>Whole weight.1</td>\n",
       "      <td>6.190642</td>\n",
       "    </tr>\n",
       "    <tr>\n",
       "      <th>3</th>\n",
       "      <td>Whole weight</td>\n",
       "      <td>4.834508</td>\n",
       "    </tr>\n",
       "    <tr>\n",
       "      <th>5</th>\n",
       "      <td>Whole weight.2</td>\n",
       "      <td>4.362609</td>\n",
       "    </tr>\n",
       "    <tr>\n",
       "      <th>7</th>\n",
       "      <td>Volume_cube</td>\n",
       "      <td>3.278835</td>\n",
       "    </tr>\n",
       "    <tr>\n",
       "      <th>0</th>\n",
       "      <td>Length</td>\n",
       "      <td>2.899807</td>\n",
       "    </tr>\n",
       "    <tr>\n",
       "      <th>1</th>\n",
       "      <td>Diameter</td>\n",
       "      <td>2.320181</td>\n",
       "    </tr>\n",
       "    <tr>\n",
       "      <th>2</th>\n",
       "      <td>Height</td>\n",
       "      <td>1.512723</td>\n",
       "    </tr>\n",
       "    <tr>\n",
       "      <th>9</th>\n",
       "      <td>Sex_I</td>\n",
       "      <td>0.887482</td>\n",
       "    </tr>\n",
       "    <tr>\n",
       "      <th>10</th>\n",
       "      <td>Sex_M</td>\n",
       "      <td>0.415458</td>\n",
       "    </tr>\n",
       "    <tr>\n",
       "      <th>11</th>\n",
       "      <td>Source_syth</td>\n",
       "      <td>0.320080</td>\n",
       "    </tr>\n",
       "  </tbody>\n",
       "</table>\n",
       "</div>"
      ],
      "text/plain": [
       "          Features  Gini Importance\n",
       "6     Shell weight        63.957507\n",
       "8     Density_meat         9.020168\n",
       "4   Whole weight.1         6.190642\n",
       "3     Whole weight         4.834508\n",
       "5   Whole weight.2         4.362609\n",
       "7      Volume_cube         3.278835\n",
       "0           Length         2.899807\n",
       "1         Diameter         2.320181\n",
       "2           Height         1.512723\n",
       "9            Sex_I         0.887482\n",
       "10           Sex_M         0.415458\n",
       "11     Source_syth         0.320080"
      ]
     },
     "execution_count": 9,
     "metadata": {},
     "output_type": "execute_result"
    }
   ],
   "source": [
    "## List feature importance\n",
    "rf_ft_imp = pd.DataFrame(data={'Features': x_train_onehot.columns, 'Gini Importance':rf.feature_importances_*100})\n",
    "rf_ft_imp.sort_values(by='Gini Importance', ascending=False)"
   ]
  },
  {
   "cell_type": "markdown",
   "metadata": {},
   "source": [
    "### Random Forest Voting"
   ]
  },
  {
   "cell_type": "code",
   "execution_count": 10,
   "metadata": {},
   "outputs": [],
   "source": [
    "## instantiate rf algorithm, using best tuned param\n",
    "rfvot = RandomForestClassifier(n_estimators=400, random_state=888, n_jobs=-1)\n",
    "\n",
    "## fit model to training data\n",
    "rfvot.fit(x_train_onehot.values, y_train_le); None"
   ]
  },
  {
   "cell_type": "markdown",
   "metadata": {},
   "source": [
    "### XGBoost"
   ]
  },
  {
   "cell_type": "code",
   "execution_count": 11,
   "metadata": {},
   "outputs": [
    {
     "data": {
      "text/html": [
       "<div>\n",
       "<style scoped>\n",
       "    .dataframe tbody tr th:only-of-type {\n",
       "        vertical-align: middle;\n",
       "    }\n",
       "\n",
       "    .dataframe tbody tr th {\n",
       "        vertical-align: top;\n",
       "    }\n",
       "\n",
       "    .dataframe thead th {\n",
       "        text-align: right;\n",
       "    }\n",
       "</style>\n",
       "<table border=\"1\" class=\"dataframe\">\n",
       "  <thead>\n",
       "    <tr style=\"text-align: right;\">\n",
       "      <th></th>\n",
       "      <th>train-rmse-mean</th>\n",
       "      <th>train-rmse-std</th>\n",
       "      <th>test-rmse-mean</th>\n",
       "      <th>test-rmse-std</th>\n",
       "      <th>train-rmsle_xgb-mean</th>\n",
       "      <th>train-rmsle_xgb-std</th>\n",
       "      <th>test-rmsle_xgb-mean</th>\n",
       "      <th>test-rmsle_xgb-std</th>\n",
       "    </tr>\n",
       "  </thead>\n",
       "  <tbody>\n",
       "    <tr>\n",
       "      <th>0</th>\n",
       "      <td>1.844355</td>\n",
       "      <td>0.000478</td>\n",
       "      <td>1.844354</td>\n",
       "      <td>0.001917</td>\n",
       "      <td>1.844355</td>\n",
       "      <td>0.000478</td>\n",
       "      <td>1.844354</td>\n",
       "      <td>0.001917</td>\n",
       "    </tr>\n",
       "    <tr>\n",
       "      <th>1</th>\n",
       "      <td>1.836620</td>\n",
       "      <td>0.000478</td>\n",
       "      <td>1.836620</td>\n",
       "      <td>0.001916</td>\n",
       "      <td>1.836620</td>\n",
       "      <td>0.000478</td>\n",
       "      <td>1.836619</td>\n",
       "      <td>0.001916</td>\n",
       "    </tr>\n",
       "    <tr>\n",
       "      <th>2</th>\n",
       "      <td>1.828875</td>\n",
       "      <td>0.000476</td>\n",
       "      <td>1.828874</td>\n",
       "      <td>0.001916</td>\n",
       "      <td>1.828875</td>\n",
       "      <td>0.000477</td>\n",
       "      <td>1.828874</td>\n",
       "      <td>0.001916</td>\n",
       "    </tr>\n",
       "    <tr>\n",
       "      <th>3</th>\n",
       "      <td>1.821117</td>\n",
       "      <td>0.000476</td>\n",
       "      <td>1.821117</td>\n",
       "      <td>0.001915</td>\n",
       "      <td>1.821117</td>\n",
       "      <td>0.000476</td>\n",
       "      <td>1.821117</td>\n",
       "      <td>0.001915</td>\n",
       "    </tr>\n",
       "    <tr>\n",
       "      <th>4</th>\n",
       "      <td>1.813351</td>\n",
       "      <td>0.000476</td>\n",
       "      <td>1.813351</td>\n",
       "      <td>0.001913</td>\n",
       "      <td>1.813351</td>\n",
       "      <td>0.000476</td>\n",
       "      <td>1.813351</td>\n",
       "      <td>0.001913</td>\n",
       "    </tr>\n",
       "    <tr>\n",
       "      <th>...</th>\n",
       "      <td>...</td>\n",
       "      <td>...</td>\n",
       "      <td>...</td>\n",
       "      <td>...</td>\n",
       "      <td>...</td>\n",
       "      <td>...</td>\n",
       "      <td>...</td>\n",
       "      <td>...</td>\n",
       "    </tr>\n",
       "    <tr>\n",
       "      <th>1132</th>\n",
       "      <td>0.152896</td>\n",
       "      <td>0.000385</td>\n",
       "      <td>0.153902</td>\n",
       "      <td>0.001681</td>\n",
       "      <td>0.152896</td>\n",
       "      <td>0.000385</td>\n",
       "      <td>0.153902</td>\n",
       "      <td>0.001681</td>\n",
       "    </tr>\n",
       "    <tr>\n",
       "      <th>1133</th>\n",
       "      <td>0.152896</td>\n",
       "      <td>0.000385</td>\n",
       "      <td>0.153902</td>\n",
       "      <td>0.001681</td>\n",
       "      <td>0.152896</td>\n",
       "      <td>0.000385</td>\n",
       "      <td>0.153902</td>\n",
       "      <td>0.001681</td>\n",
       "    </tr>\n",
       "    <tr>\n",
       "      <th>1134</th>\n",
       "      <td>0.152894</td>\n",
       "      <td>0.000382</td>\n",
       "      <td>0.153900</td>\n",
       "      <td>0.001683</td>\n",
       "      <td>0.152894</td>\n",
       "      <td>0.000383</td>\n",
       "      <td>0.153901</td>\n",
       "      <td>0.001683</td>\n",
       "    </tr>\n",
       "    <tr>\n",
       "      <th>1135</th>\n",
       "      <td>0.152894</td>\n",
       "      <td>0.000383</td>\n",
       "      <td>0.153900</td>\n",
       "      <td>0.001683</td>\n",
       "      <td>0.152894</td>\n",
       "      <td>0.000383</td>\n",
       "      <td>0.153901</td>\n",
       "      <td>0.001683</td>\n",
       "    </tr>\n",
       "    <tr>\n",
       "      <th>1136</th>\n",
       "      <td>0.152894</td>\n",
       "      <td>0.000381</td>\n",
       "      <td>0.153900</td>\n",
       "      <td>0.001684</td>\n",
       "      <td>0.152894</td>\n",
       "      <td>0.000382</td>\n",
       "      <td>0.153900</td>\n",
       "      <td>0.001684</td>\n",
       "    </tr>\n",
       "  </tbody>\n",
       "</table>\n",
       "<p>1137 rows × 8 columns</p>\n",
       "</div>"
      ],
      "text/plain": [
       "      train-rmse-mean  train-rmse-std  test-rmse-mean  test-rmse-std  \\\n",
       "0            1.844355        0.000478        1.844354       0.001917   \n",
       "1            1.836620        0.000478        1.836620       0.001916   \n",
       "2            1.828875        0.000476        1.828874       0.001916   \n",
       "3            1.821117        0.000476        1.821117       0.001915   \n",
       "4            1.813351        0.000476        1.813351       0.001913   \n",
       "...               ...             ...             ...            ...   \n",
       "1132         0.152896        0.000385        0.153902       0.001681   \n",
       "1133         0.152896        0.000385        0.153902       0.001681   \n",
       "1134         0.152894        0.000382        0.153900       0.001683   \n",
       "1135         0.152894        0.000383        0.153900       0.001683   \n",
       "1136         0.152894        0.000381        0.153900       0.001684   \n",
       "\n",
       "      train-rmsle_xgb-mean  train-rmsle_xgb-std  test-rmsle_xgb-mean  \\\n",
       "0                 1.844355             0.000478             1.844354   \n",
       "1                 1.836620             0.000478             1.836619   \n",
       "2                 1.828875             0.000477             1.828874   \n",
       "3                 1.821117             0.000476             1.821117   \n",
       "4                 1.813351             0.000476             1.813351   \n",
       "...                    ...                  ...                  ...   \n",
       "1132              0.152896             0.000385             0.153902   \n",
       "1133              0.152896             0.000385             0.153902   \n",
       "1134              0.152894             0.000383             0.153901   \n",
       "1135              0.152894             0.000383             0.153901   \n",
       "1136              0.152894             0.000382             0.153900   \n",
       "\n",
       "      test-rmsle_xgb-std  \n",
       "0               0.001917  \n",
       "1               0.001916  \n",
       "2               0.001916  \n",
       "3               0.001915  \n",
       "4               0.001913  \n",
       "...                  ...  \n",
       "1132            0.001681  \n",
       "1133            0.001681  \n",
       "1134            0.001683  \n",
       "1135            0.001683  \n",
       "1136            0.001684  \n",
       "\n",
       "[1137 rows x 8 columns]"
      ]
     },
     "execution_count": 11,
     "metadata": {},
     "output_type": "execute_result"
    }
   ],
   "source": [
    "## Define custom metric function to inverse transform y for metric - xgb.cv requires diff object than GridSearchCV \n",
    "    ##  TURNS OUT RMSLE ON UNTRANSFORMED Y, IS THE SAME AS RMSE ON TRANSFORMED LOG(Y+1) - :( at least it was a good learning experience\n",
    "## Root Mean Squared Logarithmic Error Metric\n",
    "def rmsle_xgb(y_pred: np.ndarray, dtrain: xgb.DMatrix):\n",
    "    y_true = np.expm1(dtrain.get_label())\n",
    "    y_pred = np.expm1(y_pred)\n",
    "    rmsle_xgb = mean_squared_log_error(y_true, y_pred, squared=False)\n",
    "    return 'rmsle_xgb', rmsle_xgb\n",
    "\n",
    "## convert data to DMatrix\n",
    "x_train_onehot_D = xgb.DMatrix(data=x_train_onehot, label=y_train)\n",
    "\n",
    "## cross-validation \n",
    "## parameters taken from: https://www.kaggle.com/code/thiagomantuani/ps4e4-abalone-regression-baseline/notebook#Models\n",
    "params = {'objective':'reg:squaredlogerror', 'max_depth':10, \n",
    "            'verbosity': 0,\n",
    "            'booster': 'gbtree',\n",
    "            'tree_method': 'hist',\n",
    "            'min_child_weight': 7, \n",
    "            'grow_policy': 'lossguide', \n",
    "            'gamma': 0.03816426816838989, \n",
    "            'subsample': 0.486382907668344, \n",
    "            'reg_lambda': 1.7487237399420372, \n",
    "            'reg_alpha': 0.013043045359306716,\n",
    "            'learning_rate': 0.011733966748427322, \n",
    "            'colsample_bytree': 0.5748511749872887, }\n",
    "xgb_tuning_trial = xgb.cv(dtrain=x_train_onehot_D, params=params, num_boost_round=1137, early_stopping_rounds=20, nfold=5, as_pandas=True, seed=888, metrics='rmse', custom_metric=rmsle_xgb)\n",
    "\n",
    "## mean result\n",
    "xgb_tuning_trial"
   ]
  },
  {
   "cell_type": "code",
   "execution_count": 12,
   "metadata": {},
   "outputs": [],
   "source": [
    "## hyperparameter tuning: n_estimators\n",
    "param_grid = {'n_estimators' : np.arange(300,600,100), 'max_depth':[8,12], 'eta':[0.1], 'colsample_bytree': [0.5, 0.8], 'reg_alpha':[1],         # parameters to tune\n",
    "              'objective':['reg:squaredlogerror'], 'n_jobs' : [-1]}                                                                             # fixed parameters\n",
    "kf = KFold(n_splits=5, shuffle=True, random_state=888)\n",
    "\n",
    "xgb_tuning = GridSearchCV(xgb.XGBRegressor(random_state=888), param_grid, scoring=rmsle, cv=kf)\n",
    "xgb_tuning.fit(x_train_onehot.values, y_train)\n",
    "None"
   ]
  },
  {
   "cell_type": "code",
   "execution_count": 13,
   "metadata": {},
   "outputs": [
    {
     "name": "stdout",
     "output_type": "stream",
     "text": [
      "best_params = {'colsample_bytree': 0.5, 'eta': 0.1, 'max_depth': 12, 'n_estimators': 500, 'n_jobs': -1, 'objective': 'reg:squaredlogerror', 'reg_alpha': 1}\n",
      "best_score = -0.14983887273860094\n",
      "all_scores = [-0.15010514 -0.14994807 -0.14986434 -0.15004648 -0.14991067 -0.14983887\n",
      " -0.1500754  -0.14996162 -0.14989114 -0.15001349 -0.14991612 -0.14986721]\n"
     ]
    }
   ],
   "source": [
    "## find best param with highest accuracy\n",
    "xgb_tuning_accr = xgb_tuning.cv_results_['mean_test_score']\n",
    "print('best_params =', xgb_tuning.best_params_)\n",
    "print('best_score =', xgb_tuning.best_score_)\n",
    "print('all_scores =', xgb_tuning_accr)"
   ]
  },
  {
   "cell_type": "code",
   "execution_count": 14,
   "metadata": {},
   "outputs": [],
   "source": [
    "## instantiate xgb algorithm, using best tuned param\n",
    "xgbreg = xgb.XGBRegressor(n_estimators= 500, max_depth=12, eta=0.1, colsample_bytree=0.5, reg_alpha=1, objective='reg:squaredlogerror', random_state=888, n_jobs=-1)\n",
    "\n",
    "## fit model to training data\n",
    "xgbreg.fit(x_train_onehot.values, y_train); None"
   ]
  },
  {
   "cell_type": "markdown",
   "metadata": {},
   "source": [
    "## Test Predictions"
   ]
  },
  {
   "cell_type": "code",
   "execution_count": 15,
   "metadata": {},
   "outputs": [],
   "source": [
    "## set up submission format - i.e. Id & NObeyesdad\n",
    "id = np.arange(len(train), len(train)+len(test))\n",
    "submission = pd.DataFrame(data={'id':id, 'Rings':''})"
   ]
  },
  {
   "cell_type": "code",
   "execution_count": 16,
   "metadata": {},
   "outputs": [
    {
     "name": "stdout",
     "output_type": "stream",
     "text": [
      "CHECK count of Rings==28 : 0\n"
     ]
    },
    {
     "data": {
      "image/png": "[encoded data removed]",
      "text/plain": [
       "<Figure size 750x500 with 1 Axes>"
      ]
     },
     "metadata": {},
     "output_type": "display_data"
    }
   ],
   "source": [
    "## rf prediction\n",
    "y_testpred_rf = rf.predict(x_test_onehot.values)\n",
    "y_testpred_rf = np.exp(y_testpred_rf)-1\n",
    "y_testpred_rf = np.round(y_testpred_rf)\n",
    "submission['Rings'] = y_testpred_rf\n",
    "submission.to_csv('Submissions/test_pred_rf_v2.csv', index=False)\n",
    "\n",
    "## CHECKS\n",
    "## check Rings!=28\n",
    "print('CHECK count of Rings==28 :',sum(submission.Rings==28))\n",
    "\n",
    "## test prediction histogram of Rings\n",
    "g=sns.displot(data=submission, x='Rings', binwidth=1, aspect=1.5)"
   ]
  },
  {
   "cell_type": "code",
   "execution_count": 17,
   "metadata": {},
   "outputs": [
    {
     "name": "stdout",
     "output_type": "stream",
     "text": [
      "CHECK count of Rings==28 : 0\n"
     ]
    },
    {
     "data": {
      "image/png": "[encoded data removed]",
      "text/plain": [
       "<Figure size 750x500 with 1 Axes>"
      ]
     },
     "metadata": {},
     "output_type": "display_data"
    }
   ],
   "source": [
    "## rfvot prediction\n",
    "y_testpred_rfvot = rfvot.predict(x_test_onehot.values)\n",
    "y_testpred_rfvot = le.inverse_transform(y_testpred_rfvot)\n",
    "y_testpred_rfvot = np.exp(y_testpred_rfvot)-1\n",
    "y_testpred_rfvot = np.round(y_testpred_rfvot)\n",
    "submission['Rings'] = y_testpred_rfvot\n",
    "submission.to_csv('Submissions/test_pred_rfvot_v1.csv', index=False)\n",
    "\n",
    "## CHECKS\n",
    "## check Rings!=28\n",
    "print('CHECK count of Rings==28 :',sum(submission.Rings==28))\n",
    "\n",
    "## test prediction histogram of Rings\n",
    "g=sns.displot(data=submission, x='Rings', binwidth=1, aspect=1.5)"
   ]
  },
  {
   "cell_type": "code",
   "execution_count": 16,
   "metadata": {},
   "outputs": [
    {
     "name": "stdout",
     "output_type": "stream",
     "text": [
      "CHECK count of Rings==28 : 0\n"
     ]
    },
    {
     "data": {
      "image/png": "[encoded data removed]",
      "text/plain": [
       "<Figure size 750x500 with 1 Axes>"
      ]
     },
     "metadata": {},
     "output_type": "display_data"
    }
   ],
   "source": [
    "## xgbreg prediction\n",
    "y_testpred_xgbreg = xgbreg.predict(x_test_onehot.values)\n",
    "y_testpred_xgbreg = np.expm1(y_testpred_xgbreg)\n",
    "y_testpred_xgbreg = np.round(y_testpred_xgbreg)\n",
    "submission['Rings'] = y_testpred_xgbreg\n",
    "submission.to_csv('Submissions/test_pred_xgbreg_v3.csv', index=False)\n",
    "\n",
    "## CHECKS\n",
    "## check Rings!=28\n",
    "print('CHECK count of Rings==28 :',sum(submission.Rings==28))\n",
    "\n",
    "## test prediction histogram of Rings\n",
    "g=sns.displot(data=submission, x='Rings', binwidth=1, aspect=1.5)"
   ]
  }
 ],
 "metadata": {
  "kernelspec": {
   "display_name": "Python 3",
   "language": "python",
   "name": "python3"
  },
  "language_info": {
   "codemirror_mode": {
    "name": "ipython",
    "version": 3
   },
   "file_extension": ".py",
   "mimetype": "text/x-python",
   "name": "python",
   "nbconvert_exporter": "python",
   "pygments_lexer": "ipython3",
   "version": "3.10.4"
  }
 },
 "nbformat": 4,
 "nbformat_minor": 2
}
