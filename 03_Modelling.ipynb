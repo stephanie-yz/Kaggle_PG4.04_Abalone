{
 "cells": [
  {
   "cell_type": "markdown",
   "metadata": {},
   "source": [
    "# Regression with an Abalone Dataset\n",
    "Run after following notebooks are run:\n",
    "1. **01_Data_Cleaning**\n",
    "2. **02_EDA**\n",
    "\n",
    "## Development Notes/Ideas\n",
    "- rf\n",
    "- xgb\n",
    "- knn\n",
    "- lasso\n",
    "- stack\n",
    "\n",
    "\n",
    "## Libraries"
   ]
  },
  {
   "cell_type": "code",
   "execution_count": 1,
   "metadata": {},
   "outputs": [],
   "source": [
    "## set up libraries\n",
    "import pandas as pd\n",
    "import numpy as np\n",
    "import matplotlib.pyplot as plt\n",
    "from sklearn.model_selection import KFold\n",
    "from sklearn.model_selection import GridSearchCV\n",
    "from sklearn.ensemble import RandomForestRegressor"
   ]
  },
  {
   "cell_type": "markdown",
   "metadata": {},
   "source": [
    "## Load Data"
   ]
  },
  {
   "cell_type": "code",
   "execution_count": 2,
   "metadata": {},
   "outputs": [],
   "source": [
    "train = pd.read_pickle('train_clean.pkl')\n",
    "test = pd.read_pickle('test_clean.pkl')\n",
    "\n",
    "## separate in to features and response variable\n",
    "x_train = train.drop('Rings', axis=1)\n",
    "y_train = train['Rings']\n",
    "\n",
    "x_test = test"
   ]
  },
  {
   "cell_type": "markdown",
   "metadata": {},
   "source": [
    "## One Hot Encoding"
   ]
  },
  {
   "cell_type": "code",
   "execution_count": 3,
   "metadata": {},
   "outputs": [
    {
     "name": "stdout",
     "output_type": "stream",
     "text": [
      "train dimensions:  (90615, 11) \n",
      " test dimensions:  (90615, 11)\n"
     ]
    },
    {
     "data": {
      "text/plain": [
       "['Length',\n",
       " 'Diameter',\n",
       " 'Height',\n",
       " 'Whole weight',\n",
       " 'Whole weight.1',\n",
       " 'Whole weight.2',\n",
       " 'Shell weight',\n",
       " 'Volume_cube',\n",
       " 'Density_meat',\n",
       " 'Sex_I',\n",
       " 'Sex_M']"
      ]
     },
     "execution_count": 3,
     "metadata": {},
     "output_type": "execute_result"
    }
   ],
   "source": [
    "x_train_onehot = pd.get_dummies(x_train, drop_first=True)\n",
    "x_test_onehot = pd.get_dummies(x_test, drop_first=True)\n",
    "print(\"train dimensions: \", x_train_onehot.shape, \"\\n\",\"test dimensions: \", x_test_onehot.shape)\n",
    "x_train_onehot.columns.to_list()"
   ]
  },
  {
   "cell_type": "markdown",
   "metadata": {},
   "source": [
    "## Modelling\n",
    "### Random Forest"
   ]
  },
  {
   "cell_type": "code",
   "execution_count": 30,
   "metadata": {},
   "outputs": [],
   "source": [
    "## hyperparameter tuning: n_estimators\n",
    "param_grid = {'n_estimators' : np.arange(300,450,50), 'n_jobs' : [-1]}\n",
    "kf = KFold(n_splits=5, shuffle=True, random_state=888)\n",
    "\n",
    "rf_tuning = GridSearchCV(RandomForestRegressor(random_state=888), param_grid, scoring='neg_mean_squared_log_error', cv=kf, n_jobs=-1)\n",
    "rf_tuning.fit(x_train_onehot.values, y_train)\n",
    "None"
   ]
  },
  {
   "cell_type": "code",
   "execution_count": 31,
   "metadata": {},
   "outputs": [
    {
     "name": "stdout",
     "output_type": "stream",
     "text": [
      "best_params = {'n_estimators': 400, 'n_jobs': -1}\n",
      "best_score = -0.02387037717728524\n"
     ]
    },
    {
     "data": {
      "text/plain": [
       "array([-0.02389283, -0.02387928, -0.02387038])"
      ]
     },
     "execution_count": 31,
     "metadata": {},
     "output_type": "execute_result"
    }
   ],
   "source": [
    "## find best param with highest accuracy\n",
    "rf_tuning_accr = rf_tuning.cv_results_['mean_test_score']\n",
    "print('best_params =', rf_tuning.best_params_)\n",
    "print('best_score =', rf_tuning.best_score_)\n",
    "rf_tuning_accr"
   ]
  },
  {
   "cell_type": "code",
   "execution_count": 32,
   "metadata": {},
   "outputs": [],
   "source": [
    "## instantiate rf algorithm, using best tuned param\n",
    "rf = RandomForestRegressor(n_estimators=400, random_state=888, n_jobs=-1)\n",
    "\n",
    "## fit model to training data\n",
    "rf.fit(x_train_onehot.values, y_train); None"
   ]
  },
  {
   "cell_type": "code",
   "execution_count": 33,
   "metadata": {},
   "outputs": [
    {
     "data": {
      "text/html": [
       "<div>\n",
       "<style scoped>\n",
       "    .dataframe tbody tr th:only-of-type {\n",
       "        vertical-align: middle;\n",
       "    }\n",
       "\n",
       "    .dataframe tbody tr th {\n",
       "        vertical-align: top;\n",
       "    }\n",
       "\n",
       "    .dataframe thead th {\n",
       "        text-align: right;\n",
       "    }\n",
       "</style>\n",
       "<table border=\"1\" class=\"dataframe\">\n",
       "  <thead>\n",
       "    <tr style=\"text-align: right;\">\n",
       "      <th></th>\n",
       "      <th>Features</th>\n",
       "      <th>Gini Importance</th>\n",
       "    </tr>\n",
       "  </thead>\n",
       "  <tbody>\n",
       "    <tr>\n",
       "      <th>6</th>\n",
       "      <td>Shell weight</td>\n",
       "      <td>53.240623</td>\n",
       "    </tr>\n",
       "    <tr>\n",
       "      <th>8</th>\n",
       "      <td>Density_meat</td>\n",
       "      <td>13.037074</td>\n",
       "    </tr>\n",
       "    <tr>\n",
       "      <th>4</th>\n",
       "      <td>Whole weight.1</td>\n",
       "      <td>7.862940</td>\n",
       "    </tr>\n",
       "    <tr>\n",
       "      <th>3</th>\n",
       "      <td>Whole weight</td>\n",
       "      <td>6.250325</td>\n",
       "    </tr>\n",
       "    <tr>\n",
       "      <th>5</th>\n",
       "      <td>Whole weight.2</td>\n",
       "      <td>5.553472</td>\n",
       "    </tr>\n",
       "    <tr>\n",
       "      <th>7</th>\n",
       "      <td>Volume_cube</td>\n",
       "      <td>3.918834</td>\n",
       "    </tr>\n",
       "    <tr>\n",
       "      <th>0</th>\n",
       "      <td>Length</td>\n",
       "      <td>3.877678</td>\n",
       "    </tr>\n",
       "    <tr>\n",
       "      <th>1</th>\n",
       "      <td>Diameter</td>\n",
       "      <td>3.000796</td>\n",
       "    </tr>\n",
       "    <tr>\n",
       "      <th>2</th>\n",
       "      <td>Height</td>\n",
       "      <td>1.926414</td>\n",
       "    </tr>\n",
       "    <tr>\n",
       "      <th>9</th>\n",
       "      <td>Sex_I</td>\n",
       "      <td>0.760278</td>\n",
       "    </tr>\n",
       "    <tr>\n",
       "      <th>10</th>\n",
       "      <td>Sex_M</td>\n",
       "      <td>0.571565</td>\n",
       "    </tr>\n",
       "  </tbody>\n",
       "</table>\n",
       "</div>"
      ],
      "text/plain": [
       "          Features  Gini Importance\n",
       "6     Shell weight        53.240623\n",
       "8     Density_meat        13.037074\n",
       "4   Whole weight.1         7.862940\n",
       "3     Whole weight         6.250325\n",
       "5   Whole weight.2         5.553472\n",
       "7      Volume_cube         3.918834\n",
       "0           Length         3.877678\n",
       "1         Diameter         3.000796\n",
       "2           Height         1.926414\n",
       "9            Sex_I         0.760278\n",
       "10           Sex_M         0.571565"
      ]
     },
     "execution_count": 33,
     "metadata": {},
     "output_type": "execute_result"
    }
   ],
   "source": [
    "## List feature importance\n",
    "rf_ft_imp = pd.DataFrame(data={'Features': x_train_onehot.columns, 'Gini Importance':rf.feature_importances_*100})\n",
    "rf_ft_imp.sort_values(by='Gini Importance', ascending=False)"
   ]
  }
 ],
 "metadata": {
  "kernelspec": {
   "display_name": "Python 3",
   "language": "python",
   "name": "python3"
  },
  "language_info": {
   "codemirror_mode": {
    "name": "ipython",
    "version": 3
   },
   "file_extension": ".py",
   "mimetype": "text/x-python",
   "name": "python",
   "nbconvert_exporter": "python",
   "pygments_lexer": "ipython3",
   "version": "3.10.4"
  }
 },
 "nbformat": 4,
 "nbformat_minor": 2
}
