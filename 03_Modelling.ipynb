{
 "cells": [
  {
   "cell_type": "markdown",
   "metadata": {},
   "source": [
    "# Regression with an Abalone Dataset\n",
    "Run after following notebooks are run:\n",
    "1. **01_Data_Cleaning**\n",
    "2. **02_EDA**\n",
    "\n",
    "## Development Notes/Ideas\n",
    "- rf\n",
    "- xgb\n",
    "- knn\n",
    "- lasso\n",
    "- stack\n",
    "\n",
    "\n",
    "## Libraries"
   ]
  },
  {
   "cell_type": "code",
   "execution_count": 1,
   "metadata": {},
   "outputs": [],
   "source": [
    "## set up libraries\n",
    "import pandas as pd\n",
    "import numpy as np\n",
    "import matplotlib.pyplot as plt\n",
    "from sklearn.preprocessing import OneHotEncoder"
   ]
  },
  {
   "cell_type": "markdown",
   "metadata": {},
   "source": [
    "## Load Data"
   ]
  },
  {
   "cell_type": "code",
   "execution_count": 2,
   "metadata": {},
   "outputs": [],
   "source": [
    "train = pd.read_pickle('train_clean.pkl')\n",
    "test = pd.read_pickle('test_clean.pkl')\n",
    "\n",
    "## separate in to features and response variable\n",
    "x_train = train.drop('Rings', axis=1)\n",
    "y_train = train['Rings']\n",
    "\n",
    "x_test = test"
   ]
  },
  {
   "cell_type": "markdown",
   "metadata": {},
   "source": [
    "## One Hot Encoding"
   ]
  },
  {
   "cell_type": "code",
   "execution_count": 6,
   "metadata": {},
   "outputs": [
    {
     "name": "stdout",
     "output_type": "stream",
     "text": [
      "train dimensions:  (90615, 11) \n",
      " test dimensions:  (90615, 11)\n"
     ]
    },
    {
     "data": {
      "text/plain": [
       "['Length',\n",
       " 'Diameter',\n",
       " 'Height',\n",
       " 'Whole weight',\n",
       " 'Whole weight.1',\n",
       " 'Whole weight.2',\n",
       " 'Shell weight',\n",
       " 'Volume_cube',\n",
       " 'Density_meat',\n",
       " 'Sex_I',\n",
       " 'Sex_M']"
      ]
     },
     "execution_count": 6,
     "metadata": {},
     "output_type": "execute_result"
    }
   ],
   "source": [
    "x_train_onehot = pd.get_dummies(x_train, drop_first=True)\n",
    "x_test_onehot = pd.get_dummies(x_test, drop_first=True)\n",
    "print(\"train dimensions: \", x_train_onehot.shape, \"\\n\",\"test dimensions: \", x_test_onehot.shape)\n",
    "x_train_onehot.columns.to_list()"
   ]
  }
 ],
 "metadata": {
  "kernelspec": {
   "display_name": "Python 3",
   "language": "python",
   "name": "python3"
  },
  "language_info": {
   "codemirror_mode": {
    "name": "ipython",
    "version": 3
   },
   "file_extension": ".py",
   "mimetype": "text/x-python",
   "name": "python",
   "nbconvert_exporter": "python",
   "pygments_lexer": "ipython3",
   "version": "3.10.4"
  }
 },
 "nbformat": 4,
 "nbformat_minor": 2
}
