{
 "cells": [
  {
   "cell_type": "markdown",
   "metadata": {},
   "source": [
    "# Regression with an Abalone Dataset\n",
    "Run after following notebooks are run:\n",
    "1. **01_Data_Cleaning**\n",
    "2. **02_EDA**\n",
    "\n",
    "## Development Notes/Ideas\n",
    "- rf\n",
    "- xgb\n",
    "- knn\n",
    "- lasso\n",
    "- stack\n",
    "- convert Rings to ordinal categories - this way voting will choose majority vote rather than averaging\n",
    "\n",
    "\n",
    "## Libraries"
   ]
  },
  {
   "cell_type": "code",
   "execution_count": 18,
   "metadata": {},
   "outputs": [],
   "source": [
    "## set up libraries\n",
    "import pandas as pd\n",
    "import numpy as np\n",
    "import seaborn as sns\n",
    "import matplotlib.pyplot as plt\n",
    "from sklearn.preprocessing import LabelEncoder\n",
    "from sklearn.model_selection import KFold\n",
    "from sklearn.model_selection import GridSearchCV\n",
    "from sklearn.ensemble import RandomForestRegressor\n",
    "from sklearn.ensemble import RandomForestClassifier\n",
    "import xgboost as xgb"
   ]
  },
  {
   "cell_type": "markdown",
   "metadata": {},
   "source": [
    "## Load Data"
   ]
  },
  {
   "cell_type": "code",
   "execution_count": 2,
   "metadata": {},
   "outputs": [],
   "source": [
    "train = pd.read_pickle('train_clean.pkl')\n",
    "test = pd.read_pickle('test_clean.pkl')\n",
    "\n",
    "## separate in to features and response variable\n",
    "x_train = train.drop('Rings', axis=1)\n",
    "y_train = train['Rings']\n",
    "\n",
    "x_test = test"
   ]
  },
  {
   "cell_type": "markdown",
   "metadata": {},
   "source": [
    "## One Hot Encoding / Label Encoding"
   ]
  },
  {
   "cell_type": "code",
   "execution_count": 3,
   "metadata": {},
   "outputs": [
    {
     "name": "stdout",
     "output_type": "stream",
     "text": [
      "train dimensions:  (90615, 11) \n",
      " test dimensions:  (60411, 11)\n"
     ]
    },
    {
     "data": {
      "text/plain": [
       "['Length',\n",
       " 'Diameter',\n",
       " 'Height',\n",
       " 'Whole weight',\n",
       " 'Whole weight.1',\n",
       " 'Whole weight.2',\n",
       " 'Shell weight',\n",
       " 'Volume_cube',\n",
       " 'Density_meat',\n",
       " 'Sex_I',\n",
       " 'Sex_M']"
      ]
     },
     "execution_count": 3,
     "metadata": {},
     "output_type": "execute_result"
    }
   ],
   "source": [
    "x_train_onehot = pd.get_dummies(x_train, drop_first=True)\n",
    "x_test_onehot = pd.get_dummies(x_test, drop_first=True)\n",
    "print(\"train dimensions: \", x_train_onehot.shape, \"\\n\",\"test dimensions: \", x_test_onehot.shape)\n",
    "x_train_onehot.columns.to_list()"
   ]
  },
  {
   "cell_type": "code",
   "execution_count": 13,
   "metadata": {},
   "outputs": [
    {
     "data": {
      "text/plain": [
       "array([0.69314718, 1.09861229, 1.38629436, 1.60943791, 1.79175947,\n",
       "       1.94591015, 2.07944154, 2.19722458, 2.30258509, 2.39789527,\n",
       "       2.48490665, 2.56494936, 2.63905733, 2.7080502 , 2.77258872,\n",
       "       2.83321334, 2.89037176, 2.94443898, 2.99573227, 3.04452244,\n",
       "       3.09104245, 3.13549422, 3.17805383, 3.21887582, 3.25809654,\n",
       "       3.29583687, 3.33220451, 3.40119738])"
      ]
     },
     "execution_count": 13,
     "metadata": {},
     "output_type": "execute_result"
    }
   ],
   "source": [
    "## label encode response variable - used for voting algorithms\n",
    "le = LabelEncoder()\n",
    "y_train_le = le.fit_transform(y_train)\n",
    "le.classes_"
   ]
  },
  {
   "cell_type": "markdown",
   "metadata": {},
   "source": [
    "## Modelling\n",
    "### Random Forest Averaging"
   ]
  },
  {
   "cell_type": "code",
   "execution_count": 4,
   "metadata": {},
   "outputs": [],
   "source": [
    "## hyperparameter tuning: n_estimators\n",
    "param_grid = {'n_estimators' : np.arange(300,450,50), 'n_jobs' : [-1]}\n",
    "kf = KFold(n_splits=5, shuffle=True, random_state=888)\n",
    "\n",
    "rf_tuning = GridSearchCV(RandomForestRegressor(random_state=888), param_grid, scoring='neg_mean_squared_log_error', cv=kf, n_jobs=-1)\n",
    "rf_tuning.fit(x_train_onehot.values, y_train)\n",
    "None"
   ]
  },
  {
   "cell_type": "code",
   "execution_count": 5,
   "metadata": {},
   "outputs": [
    {
     "name": "stdout",
     "output_type": "stream",
     "text": [
      "best_params = {'n_estimators': 400, 'n_jobs': -1}\n",
      "best_score = -0.002116464972825535\n"
     ]
    },
    {
     "data": {
      "text/plain": [
       "array([-0.00211814, -0.00211721, -0.00211646])"
      ]
     },
     "execution_count": 5,
     "metadata": {},
     "output_type": "execute_result"
    }
   ],
   "source": [
    "## find best param with highest accuracy\n",
    "rf_tuning_accr = rf_tuning.cv_results_['mean_test_score']\n",
    "print('best_params =', rf_tuning.best_params_)\n",
    "print('best_score =', rf_tuning.best_score_)\n",
    "rf_tuning_accr"
   ]
  },
  {
   "cell_type": "code",
   "execution_count": 6,
   "metadata": {},
   "outputs": [],
   "source": [
    "## instantiate rf algorithm, using best tuned param\n",
    "rf = RandomForestRegressor(n_estimators=400, random_state=888, n_jobs=-1)\n",
    "\n",
    "## fit model to training data\n",
    "rf.fit(x_train_onehot.values, y_train); None"
   ]
  },
  {
   "cell_type": "markdown",
   "metadata": {},
   "source": [
    "#### Feature importance"
   ]
  },
  {
   "cell_type": "code",
   "execution_count": 7,
   "metadata": {},
   "outputs": [
    {
     "data": {
      "text/html": [
       "<div>\n",
       "<style scoped>\n",
       "    .dataframe tbody tr th:only-of-type {\n",
       "        vertical-align: middle;\n",
       "    }\n",
       "\n",
       "    .dataframe tbody tr th {\n",
       "        vertical-align: top;\n",
       "    }\n",
       "\n",
       "    .dataframe thead th {\n",
       "        text-align: right;\n",
       "    }\n",
       "</style>\n",
       "<table border=\"1\" class=\"dataframe\">\n",
       "  <thead>\n",
       "    <tr style=\"text-align: right;\">\n",
       "      <th></th>\n",
       "      <th>Features</th>\n",
       "      <th>Gini Importance</th>\n",
       "    </tr>\n",
       "  </thead>\n",
       "  <tbody>\n",
       "    <tr>\n",
       "      <th>6</th>\n",
       "      <td>Shell weight</td>\n",
       "      <td>64.176353</td>\n",
       "    </tr>\n",
       "    <tr>\n",
       "      <th>8</th>\n",
       "      <td>Density_meat</td>\n",
       "      <td>8.978309</td>\n",
       "    </tr>\n",
       "    <tr>\n",
       "      <th>4</th>\n",
       "      <td>Whole weight.1</td>\n",
       "      <td>6.238470</td>\n",
       "    </tr>\n",
       "    <tr>\n",
       "      <th>3</th>\n",
       "      <td>Whole weight</td>\n",
       "      <td>4.850089</td>\n",
       "    </tr>\n",
       "    <tr>\n",
       "      <th>5</th>\n",
       "      <td>Whole weight.2</td>\n",
       "      <td>4.370962</td>\n",
       "    </tr>\n",
       "    <tr>\n",
       "      <th>7</th>\n",
       "      <td>Volume_cube</td>\n",
       "      <td>3.394460</td>\n",
       "    </tr>\n",
       "    <tr>\n",
       "      <th>0</th>\n",
       "      <td>Length</td>\n",
       "      <td>2.912683</td>\n",
       "    </tr>\n",
       "    <tr>\n",
       "      <th>1</th>\n",
       "      <td>Diameter</td>\n",
       "      <td>2.299838</td>\n",
       "    </tr>\n",
       "    <tr>\n",
       "      <th>2</th>\n",
       "      <td>Height</td>\n",
       "      <td>1.521654</td>\n",
       "    </tr>\n",
       "    <tr>\n",
       "      <th>9</th>\n",
       "      <td>Sex_I</td>\n",
       "      <td>0.844384</td>\n",
       "    </tr>\n",
       "    <tr>\n",
       "      <th>10</th>\n",
       "      <td>Sex_M</td>\n",
       "      <td>0.412798</td>\n",
       "    </tr>\n",
       "  </tbody>\n",
       "</table>\n",
       "</div>"
      ],
      "text/plain": [
       "          Features  Gini Importance\n",
       "6     Shell weight        64.176353\n",
       "8     Density_meat         8.978309\n",
       "4   Whole weight.1         6.238470\n",
       "3     Whole weight         4.850089\n",
       "5   Whole weight.2         4.370962\n",
       "7      Volume_cube         3.394460\n",
       "0           Length         2.912683\n",
       "1         Diameter         2.299838\n",
       "2           Height         1.521654\n",
       "9            Sex_I         0.844384\n",
       "10           Sex_M         0.412798"
      ]
     },
     "execution_count": 7,
     "metadata": {},
     "output_type": "execute_result"
    }
   ],
   "source": [
    "## List feature importance\n",
    "rf_ft_imp = pd.DataFrame(data={'Features': x_train_onehot.columns, 'Gini Importance':rf.feature_importances_*100})\n",
    "rf_ft_imp.sort_values(by='Gini Importance', ascending=False)"
   ]
  },
  {
   "cell_type": "markdown",
   "metadata": {},
   "source": [
    "### Random Forest Voting"
   ]
  },
  {
   "cell_type": "code",
   "execution_count": 14,
   "metadata": {},
   "outputs": [],
   "source": [
    "## instantiate rf algorithm, using best tuned param\n",
    "rfvot = RandomForestClassifier(n_estimators=400, random_state=888, n_jobs=-1)\n",
    "\n",
    "## fit model to training data\n",
    "rfvot.fit(x_train_onehot.values, y_train_le); None"
   ]
  },
  {
   "cell_type": "markdown",
   "metadata": {},
   "source": [
    "### XGBoost"
   ]
  },
  {
   "cell_type": "code",
   "execution_count": 20,
   "metadata": {},
   "outputs": [
    {
     "data": {
      "text/html": [
       "<div>\n",
       "<style scoped>\n",
       "    .dataframe tbody tr th:only-of-type {\n",
       "        vertical-align: middle;\n",
       "    }\n",
       "\n",
       "    .dataframe tbody tr th {\n",
       "        vertical-align: top;\n",
       "    }\n",
       "\n",
       "    .dataframe thead th {\n",
       "        text-align: right;\n",
       "    }\n",
       "</style>\n",
       "<table border=\"1\" class=\"dataframe\">\n",
       "  <thead>\n",
       "    <tr style=\"text-align: right;\">\n",
       "      <th></th>\n",
       "      <th>train-rmsle-mean</th>\n",
       "      <th>train-rmsle-std</th>\n",
       "      <th>test-rmsle-mean</th>\n",
       "      <th>test-rmsle-std</th>\n",
       "    </tr>\n",
       "  </thead>\n",
       "  <tbody>\n",
       "    <tr>\n",
       "      <th>199</th>\n",
       "      <td>0.040786</td>\n",
       "      <td>0.000219</td>\n",
       "      <td>0.04496</td>\n",
       "      <td>0.000739</td>\n",
       "    </tr>\n",
       "  </tbody>\n",
       "</table>\n",
       "</div>"
      ],
      "text/plain": [
       "     train-rmsle-mean  train-rmsle-std  test-rmsle-mean  test-rmsle-std\n",
       "199          0.040786         0.000219          0.04496        0.000739"
      ]
     },
     "execution_count": 20,
     "metadata": {},
     "output_type": "execute_result"
    }
   ],
   "source": [
    "## convert data to DMatrix\n",
    "x_train_onehot_D = xgb.DMatrix(data=x_train_onehot, label=y_train)\n",
    "\n",
    "## cross-validation\n",
    "params = {'objective':'reg:squaredlogerror', 'max_depth':8, 'eta':0.1}\n",
    "xgb_tuning = xgb.cv(dtrain=x_train_onehot_D, params=params, num_boost_round=200, early_stopping_rounds=20, nfold=5, as_pandas=True, seed=888)\n",
    "\n",
    "## mean result\n",
    "xgb_tuning.tail(1)"
   ]
  },
  {
   "cell_type": "code",
   "execution_count": 23,
   "metadata": {},
   "outputs": [],
   "source": [
    "## hyperparameter tuning: n_estimators\n",
    "param_grid = {'n_estimators' : np.arange(300,600,100), 'max_depth':[8,12], 'eta':[0.1], 'colsample_bytree': [0.5, 0.8], 'reg_alpha':[1],         # parameters to tune\n",
    "              'objective':['reg:squaredlogerror'], 'n_jobs' : [-1]}                                                                             # fixed parameters\n",
    "kf = KFold(n_splits=5, shuffle=True, random_state=888)\n",
    "\n",
    "xgb_tuning = GridSearchCV(xgb.XGBRegressor(random_state=8), param_grid, scoring='neg_mean_squared_log_error', cv=kf)\n",
    "xgb_tuning.fit(x_train_onehot.values, y_train)\n",
    "None"
   ]
  },
  {
   "cell_type": "code",
   "execution_count": 24,
   "metadata": {},
   "outputs": [
    {
     "name": "stdout",
     "output_type": "stream",
     "text": [
      "best_params = {'colsample_bytree': 0.8, 'eta': 0.1, 'max_depth': 12, 'n_estimators': 500, 'n_jobs': -1, 'objective': 'reg:squaredlogerror', 'reg_alpha': 1}\n",
      "best_score = -0.0020153674473015982\n"
     ]
    },
    {
     "data": {
      "text/plain": [
       "array([-0.00202357, -0.00201979, -0.00201771, -0.00202131, -0.00201814,\n",
       "       -0.00201655, -0.00202019, -0.00201763, -0.00201638, -0.00201843,\n",
       "       -0.00201634, -0.00201537])"
      ]
     },
     "execution_count": 24,
     "metadata": {},
     "output_type": "execute_result"
    }
   ],
   "source": [
    "## find best param with highest accuracy\n",
    "xgb_tuning_accr = xgb_tuning.cv_results_['mean_test_score']\n",
    "print('best_params =', xgb_tuning.best_params_)\n",
    "print('best_score =', xgb_tuning.best_score_)\n",
    "xgb_tuning_accr"
   ]
  },
  {
   "cell_type": "code",
   "execution_count": 25,
   "metadata": {},
   "outputs": [],
   "source": [
    "## instantiate xgb algorithm, using best tuned param\n",
    "xgbreg = xgb.XGBRegressor(n_estimators= 500, max_depth=12, eta=0.1, colsample_bytree=0.8, reg_alpha=1, objective='reg:squaredlogerror', random_state=8, n_jobs=-1)\n",
    "\n",
    "## fit model to training data\n",
    "xgbreg.fit(x_train_onehot.values, y_train); None"
   ]
  },
  {
   "cell_type": "markdown",
   "metadata": {},
   "source": [
    "## Test Predictions"
   ]
  },
  {
   "cell_type": "code",
   "execution_count": 8,
   "metadata": {},
   "outputs": [],
   "source": [
    "## set up submission format - i.e. Id & NObeyesdad\n",
    "id = np.arange(len(train), len(train)+len(test))\n",
    "submission = pd.DataFrame(data={'id':id, 'Rings':''})"
   ]
  },
  {
   "cell_type": "code",
   "execution_count": 16,
   "metadata": {},
   "outputs": [
    {
     "name": "stdout",
     "output_type": "stream",
     "text": [
      "CHECK count of Rings==28 : 0\n"
     ]
    },
    {
     "data": {
      "image/png": "[encoded data removed]",
      "text/plain": [
       "<Figure size 750x500 with 1 Axes>"
      ]
     },
     "metadata": {},
     "output_type": "display_data"
    }
   ],
   "source": [
    "## rf prediction\n",
    "y_testpred_rf = rf.predict(x_test_onehot.values)\n",
    "y_testpred_rf = np.exp(y_testpred_rf)-1\n",
    "y_testpred_rf = np.round(y_testpred_rf)\n",
    "submission['Rings'] = y_testpred_rf\n",
    "submission.to_csv('Submissions/test_pred_rf_v2.csv', index=False)\n",
    "\n",
    "## CHECKS\n",
    "## check Rings!=28\n",
    "print('CHECK count of Rings==28 :',sum(submission.Rings==28))\n",
    "\n",
    "## test prediction histogram of Rings\n",
    "g=sns.displot(data=submission, x='Rings', binwidth=1, aspect=1.5)"
   ]
  },
  {
   "cell_type": "code",
   "execution_count": 17,
   "metadata": {},
   "outputs": [
    {
     "name": "stdout",
     "output_type": "stream",
     "text": [
      "CHECK count of Rings==28 : 0\n"
     ]
    },
    {
     "data": {
      "image/png": "[encoded data removed]",
      "text/plain": [
       "<Figure size 750x500 with 1 Axes>"
      ]
     },
     "metadata": {},
     "output_type": "display_data"
    }
   ],
   "source": [
    "## rfvot prediction\n",
    "y_testpred_rfvot = rfvot.predict(x_test_onehot.values)\n",
    "y_testpred_rfvot = le.inverse_transform(y_testpred_rfvot)\n",
    "y_testpred_rfvot = np.exp(y_testpred_rfvot)-1\n",
    "y_testpred_rfvot = np.round(y_testpred_rfvot)\n",
    "submission['Rings'] = y_testpred_rfvot\n",
    "submission.to_csv('Submissions/test_pred_rfvot_v1.csv', index=False)\n",
    "\n",
    "## CHECKS\n",
    "## check Rings!=28\n",
    "print('CHECK count of Rings==28 :',sum(submission.Rings==28))\n",
    "\n",
    "## test prediction histogram of Rings\n",
    "g=sns.displot(data=submission, x='Rings', binwidth=1, aspect=1.5)"
   ]
  },
  {
   "cell_type": "code",
   "execution_count": 26,
   "metadata": {},
   "outputs": [
    {
     "name": "stdout",
     "output_type": "stream",
     "text": [
      "CHECK count of Rings==28 : 0\n"
     ]
    },
    {
     "data": {
      "image/png": "[encoded data removed]",
      "text/plain": [
       "<Figure size 750x500 with 1 Axes>"
      ]
     },
     "metadata": {},
     "output_type": "display_data"
    }
   ],
   "source": [
    "## xgbreg prediction\n",
    "y_testpred_xgbreg = xgbreg.predict(x_test_onehot.values)\n",
    "y_testpred_xgbreg = np.exp(y_testpred_xgbreg)-1\n",
    "y_testpred_xgbreg = np.round(y_testpred_xgbreg)\n",
    "submission['Rings'] = y_testpred_xgbreg\n",
    "submission.to_csv('Submissions/test_pred_xgbreg_v1.csv', index=False)\n",
    "\n",
    "## CHECKS\n",
    "## check Rings!=28\n",
    "print('CHECK count of Rings==28 :',sum(submission.Rings==28))\n",
    "\n",
    "## test prediction histogram of Rings\n",
    "g=sns.displot(data=submission, x='Rings', binwidth=1, aspect=1.5)"
   ]
  }
 ],
 "metadata": {
  "kernelspec": {
   "display_name": "Python 3",
   "language": "python",
   "name": "python3"
  },
  "language_info": {
   "codemirror_mode": {
    "name": "ipython",
    "version": 3
   },
   "file_extension": ".py",
   "mimetype": "text/x-python",
   "name": "python",
   "nbconvert_exporter": "python",
   "pygments_lexer": "ipython3",
   "version": "3.10.4"
  }
 },
 "nbformat": 4,
 "nbformat_minor": 2
}
